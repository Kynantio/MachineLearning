{
  "nbformat": 4,
  "nbformat_minor": 0,
  "metadata": {
    "colab": {
      "provenance": [],
      "gpuType": "T4",
      "mount_file_id": "1ai7HD8NkaoFnETWLGj0bv26xPT7v-Syr",
      "authorship_tag": "ABX9TyPSOUmhs5xmnSdx0ME/VwnS",
      "include_colab_link": true
    },
    "kernelspec": {
      "name": "python3",
      "display_name": "Python 3"
    },
    "language_info": {
      "name": "python"
    },
    "accelerator": "GPU"
  },
  "cells": [
    {
      "cell_type": "markdown",
      "metadata": {
        "id": "view-in-github",
        "colab_type": "text"
      },
      "source": [
        "<a href=\"https://colab.research.google.com/github/Kynantio/MachineLearning/blob/main/Jobsheet_10.ipynb\" target=\"_parent\"><img src=\"https://colab.research.google.com/assets/colab-badge.svg\" alt=\"Open In Colab\"/></a>"
      ]
    },
    {
      "cell_type": "markdown",
      "source": [
        "# Jobsheet 10 Machine Learning\n",
        "### Kynantio Candra Abrari\n",
        "### 2141720206 / 3A / 16"
      ],
      "metadata": {
        "id": "XgKPGqw7vsHT"
      }
    },
    {
      "cell_type": "markdown",
      "source": [
        "# Praktikum 1"
      ],
      "metadata": {
        "id": "VYuO5ZqQxnJS"
      }
    },
    {
      "cell_type": "code",
      "source": [
        "import numpy as np\n",
        "import tensorflow_datasets as tfds\n",
        "import tensorflow as tf\n",
        "\n",
        "tfds.disable_progress_bar()"
      ],
      "metadata": {
        "id": "ihF9dL5zvt7v"
      },
      "execution_count": null,
      "outputs": []
    },
    {
      "cell_type": "code",
      "source": [
        "import tensorflow as tf\n",
        "import tensorflow_datasets as tfds\n",
        "\n",
        "# Construct a tf.data.Dataset\n",
        "ds = tfds.load('mnist', split='train', shuffle_files=True)\n",
        "\n",
        "# Build your input pipeline\n",
        "ds = ds.shuffle(1024).batch(32).prefetch(tf.data.AUTOTUNE)\n",
        "for example in ds.take(1):\n",
        "  image, label = example[\"image\"], example[\"label\"]"
      ],
      "metadata": {
        "colab": {
          "base_uri": "https://localhost:8080/"
        },
        "id": "_aHUUATUwI-9",
        "outputId": "bec1ca4d-c820-4565-ea96-0612d2cfdcfc"
      },
      "execution_count": null,
      "outputs": [
        {
          "output_type": "stream",
          "name": "stdout",
          "text": [
            "Downloading and preparing dataset 11.06 MiB (download: 11.06 MiB, generated: 21.00 MiB, total: 32.06 MiB) to /root/tensorflow_datasets/mnist/3.0.1...\n",
            "Dataset mnist downloaded and prepared to /root/tensorflow_datasets/mnist/3.0.1. Subsequent calls will reuse this data.\n"
          ]
        }
      ]
    },
    {
      "cell_type": "code",
      "source": [
        "dataset, info = tfds.load('imdb_reviews', with_info=True,\n",
        "                          as_supervised=True)\n",
        "train_dataset, test_dataset = dataset['train'], dataset['test']\n",
        "\n",
        "train_dataset.element_spec"
      ],
      "metadata": {
        "colab": {
          "base_uri": "https://localhost:8080/"
        },
        "id": "GtVB7jnDwliC",
        "outputId": "d0b6c8ce-5879-4dc1-f814-38fe6cd5d1fd"
      },
      "execution_count": null,
      "outputs": [
        {
          "output_type": "stream",
          "name": "stdout",
          "text": [
            "Downloading and preparing dataset 80.23 MiB (download: 80.23 MiB, generated: Unknown size, total: 80.23 MiB) to /root/tensorflow_datasets/imdb_reviews/plain_text/1.0.0...\n",
            "Dataset imdb_reviews downloaded and prepared to /root/tensorflow_datasets/imdb_reviews/plain_text/1.0.0. Subsequent calls will reuse this data.\n"
          ]
        },
        {
          "output_type": "execute_result",
          "data": {
            "text/plain": [
              "(TensorSpec(shape=(), dtype=tf.string, name=None),\n",
              " TensorSpec(shape=(), dtype=tf.int64, name=None))"
            ]
          },
          "metadata": {},
          "execution_count": 3
        }
      ]
    },
    {
      "cell_type": "code",
      "source": [
        "for example, label in train_dataset.take(1):\n",
        "  print('text: ', example.numpy())\n",
        "  print('label: ', label.numpy())"
      ],
      "metadata": {
        "colab": {
          "base_uri": "https://localhost:8080/"
        },
        "id": "v2D1qGtXwrvK",
        "outputId": "65a963a2-e16d-458c-8bd0-aca5b4faec01"
      },
      "execution_count": null,
      "outputs": [
        {
          "output_type": "stream",
          "name": "stdout",
          "text": [
            "text:  b\"This was an absolutely terrible movie. Don't be lured in by Christopher Walken or Michael Ironside. Both are great actors, but this must simply be their worst role in history. Even their great acting could not redeem this movie's ridiculous storyline. This movie is an early nineties US propaganda piece. The most pathetic scenes were those when the Columbian rebels were making their cases for revolutions. Maria Conchita Alonso appeared phony, and her pseudo-love affair with Walken was nothing but a pathetic emotional plug in a movie that was devoid of any real meaning. I am disappointed that there are movies like this, ruining actor's like Christopher Walken's good name. I could barely sit through it.\"\n",
            "label:  0\n"
          ]
        }
      ]
    },
    {
      "cell_type": "code",
      "source": [
        "BUFFER_SIZE = 10000\n",
        "BATCH_SIZE = 64\n",
        "\n",
        "train_dataset = train_dataset.shuffle(BUFFER_SIZE).batch(BATCH_SIZE).prefetch(tf.data.AUTOTUNE)\n",
        "test_dataset = test_dataset.batch(BATCH_SIZE).prefetch(tf.data.AUTOTUNE)\n",
        "\n",
        "for example, label in train_dataset.take(1):\n",
        "  print('texts: ', example.numpy()[:3])\n",
        "  print()\n",
        "  print('labels: ', label.numpy()[:3])"
      ],
      "metadata": {
        "colab": {
          "base_uri": "https://localhost:8080/"
        },
        "id": "d9QRuPT8wtVd",
        "outputId": "34a4a22d-f274-489f-a38b-8d55f06b2036"
      },
      "execution_count": null,
      "outputs": [
        {
          "output_type": "stream",
          "name": "stdout",
          "text": [
            "texts:  [b'This movie rivals \"Plan 9\" as one of the dumbest movie ever made. Always be concerned when the same person is the:<br /><br />1. Star 2. Director 3. Producer 4. Writer 5. Stuntman, and 6. Editor. Unfortunately, Justin Kreinbrink did all 6 jobs! IMDb shows that he and his father were western \\'stunt men\\'. So maybe that was the problem. <br /><br />Here\\'s just ONE example from the film: in the film the sheriff has to take a witness to another town for protection. Of course, the bad guys find out and are waiting for them. But, what happens? The good guys are riding along and a shot rings out and hits a tree near them. When the camera shows us the bad guys they\\'re all just sitting on a log, chatting. What\\'s wrong with this picture!<br /><br />I could go on. Perhaps this film was meant as a comedy. If so, it didn\\'t do that well either.'\n",
            " b\"I can't believe I wasted my time with this movie. I couldn't even call it a movie. It was so bad with nothing to recommend it. <br /><br />I like low budget movies and weird flicks but this one had me bored to death. Badly made and bad acting ruined it from being curious. You have to wonder what these people were thinking when they spent money to produce this movie. I wonder what I was thinking watching it to the end. I recommend this movie to no one. How did they release this? Was there an audience who likes this kind of movie? There must be because you can find this at almost any video store. But why?<br /><br />Deserves to be forgotten.<br /><br />If you like bad movies then this is for you.\"\n",
            " b\"This solid little horror film is actually one of Renny Harlin's best. The story is pretty routine stuff, but the atmosphere is what really makes it come alive; in fact, the ghost story is almost an afterthought. The real horror comes from the prison setting itself, and Renny H. spares no detail in showing us how bad the conditions are inside that crumbling, leaking, rat-infested old hellhole (with a sadistic warden, too!) Viggo Mortensen is excellent as usual in the lead role, supported by some very authentic-looking prisoners (there are no pretty boys in this cast.) Horror fans should check this one out.\"]\n",
            "\n",
            "labels:  [0 0 0]\n"
          ]
        }
      ]
    },
    {
      "cell_type": "code",
      "source": [
        "VOCAB_SIZE = 1000\n",
        "encoder = tf.keras.layers.TextVectorization(\n",
        "    max_tokens=VOCAB_SIZE)\n",
        "encoder.adapt(train_dataset.map(lambda text, label: text))"
      ],
      "metadata": {
        "id": "DnJ0T_KCwxX3"
      },
      "execution_count": null,
      "outputs": []
    },
    {
      "cell_type": "code",
      "source": [
        "vocab = np.array(encoder.get_vocabulary())\n",
        "vocab[:20]"
      ],
      "metadata": {
        "colab": {
          "base_uri": "https://localhost:8080/"
        },
        "id": "ZkWPBF-jwzPc",
        "outputId": "b65b282d-6c16-44ae-a74f-40af9d9a8793"
      },
      "execution_count": null,
      "outputs": [
        {
          "output_type": "execute_result",
          "data": {
            "text/plain": [
              "array(['', '[UNK]', 'the', 'and', 'a', 'of', 'to', 'is', 'in', 'it', 'i',\n",
              "       'this', 'that', 'br', 'was', 'as', 'for', 'with', 'movie', 'but'],\n",
              "      dtype='<U14')"
            ]
          },
          "metadata": {},
          "execution_count": 7
        }
      ]
    },
    {
      "cell_type": "code",
      "source": [
        "encoded_example=encoder(example)[:3].numpy()\n",
        "encoded_example"
      ],
      "metadata": {
        "colab": {
          "base_uri": "https://localhost:8080/"
        },
        "id": "jVE6Dw8dw02I",
        "outputId": "6024ac42-6a04-4de4-8884-2178e797cbb1"
      },
      "execution_count": null,
      "outputs": [
        {
          "output_type": "execute_result",
          "data": {
            "text/plain": [
              "array([[ 11,  18,   1, ...,   0,   0,   0],\n",
              "       [ 10, 175, 256, ...,   0,   0,   0],\n",
              "       [ 11,   1, 111, ...,   0,   0,   0]])"
            ]
          },
          "metadata": {},
          "execution_count": 8
        }
      ]
    },
    {
      "cell_type": "code",
      "source": [
        "for n in range(3):\n",
        "  print(\"Original: \", example[n].numpy())\n",
        "  print(\"Round-trip: \", \" \".join(vocab[encoded_example[n]]))\n",
        "  print()"
      ],
      "metadata": {
        "colab": {
          "base_uri": "https://localhost:8080/"
        },
        "id": "HAGIAWAYw3jk",
        "outputId": "821279ab-7d6a-4fe3-b770-34eee824eeb1"
      },
      "execution_count": null,
      "outputs": [
        {
          "output_type": "stream",
          "name": "stdout",
          "text": [
            "Original:  b'This movie rivals \"Plan 9\" as one of the dumbest movie ever made. Always be concerned when the same person is the:<br /><br />1. Star 2. Director 3. Producer 4. Writer 5. Stuntman, and 6. Editor. Unfortunately, Justin Kreinbrink did all 6 jobs! IMDb shows that he and his father were western \\'stunt men\\'. So maybe that was the problem. <br /><br />Here\\'s just ONE example from the film: in the film the sheriff has to take a witness to another town for protection. Of course, the bad guys find out and are waiting for them. But, what happens? The good guys are riding along and a shot rings out and hits a tree near them. When the camera shows us the bad guys they\\'re all just sitting on a log, chatting. What\\'s wrong with this picture!<br /><br />I could go on. Perhaps this film was meant as a comedy. If so, it didn\\'t do that well either.'\n",
            "Round-trip:  this movie [UNK] [UNK] [UNK] as one of the [UNK] movie ever made always be [UNK] when the same person is [UNK] br 1 star 2 director 3 [UNK] 4 writer 5 [UNK] and [UNK] [UNK] unfortunately [UNK] [UNK] did all [UNK] [UNK] imdb shows that he and his father were [UNK] [UNK] men so maybe that was the problem br br [UNK] just one example from the film in the film the [UNK] has to take a [UNK] to another town for [UNK] of course the bad guys find out and are [UNK] for them but what happens the good guys are [UNK] along and a shot [UNK] out and [UNK] a [UNK] near them when the camera shows us the bad guys theyre all just [UNK] on a [UNK] [UNK] whats wrong with this [UNK] br i could go on perhaps this film was meant as a comedy if so it didnt do that well either                                                                                                                                                                                                                                                                                                                                                                                                                                                                                                                                                                                                                                                                                     \n",
            "\n",
            "Original:  b\"I can't believe I wasted my time with this movie. I couldn't even call it a movie. It was so bad with nothing to recommend it. <br /><br />I like low budget movies and weird flicks but this one had me bored to death. Badly made and bad acting ruined it from being curious. You have to wonder what these people were thinking when they spent money to produce this movie. I wonder what I was thinking watching it to the end. I recommend this movie to no one. How did they release this? Was there an audience who likes this kind of movie? There must be because you can find this at almost any video store. But why?<br /><br />Deserves to be forgotten.<br /><br />If you like bad movies then this is for you.\"\n",
            "Round-trip:  i cant believe i [UNK] my time with this movie i couldnt even call it a movie it was so bad with nothing to recommend it br br i like low budget movies and weird [UNK] but this one had me [UNK] to death badly made and bad acting [UNK] it from being [UNK] you have to wonder what these people were thinking when they [UNK] money to [UNK] this movie i wonder what i was thinking watching it to the end i recommend this movie to no one how did they release this was there an audience who [UNK] this kind of movie there must be because you can find this at almost any video [UNK] but [UNK] br deserves to be [UNK] br if you like bad movies then this is for you                                                                                                                                                                                                                                                                                                                                                                                                                                                                                                                                                                                                                                                                                                            \n",
            "\n",
            "Original:  b\"This solid little horror film is actually one of Renny Harlin's best. The story is pretty routine stuff, but the atmosphere is what really makes it come alive; in fact, the ghost story is almost an afterthought. The real horror comes from the prison setting itself, and Renny H. spares no detail in showing us how bad the conditions are inside that crumbling, leaking, rat-infested old hellhole (with a sadistic warden, too!) Viggo Mortensen is excellent as usual in the lead role, supported by some very authentic-looking prisoners (there are no pretty boys in this cast.) Horror fans should check this one out.\"\n",
            "Round-trip:  this [UNK] little horror film is actually one of [UNK] [UNK] best the story is pretty [UNK] stuff but the atmosphere is what really makes it come [UNK] in fact the [UNK] story is almost an [UNK] the real horror comes from the [UNK] setting itself and [UNK] [UNK] [UNK] no [UNK] in showing us how bad the [UNK] are inside that [UNK] [UNK] [UNK] old [UNK] with a [UNK] [UNK] too [UNK] [UNK] is excellent as usual in the lead role [UNK] by some very [UNK] [UNK] there are no pretty boys in this cast horror fans should check this one out                                                                                                                                                                                                                                                                                                                                                                                                                                                                                                                                                                                                                                                                                                                                            \n",
            "\n"
          ]
        }
      ]
    },
    {
      "cell_type": "code",
      "source": [
        "model = tf.keras.Sequential([\n",
        "    encoder,\n",
        "    tf.keras.layers.Embedding(\n",
        "        input_dim=len(encoder.get_vocabulary()),\n",
        "        output_dim=64,\n",
        "        # Use masking to handle the variable sequence lengths\n",
        "        mask_zero=True),\n",
        "    tf.keras.layers.Bidirectional(tf.keras.layers.LSTM(64)),\n",
        "    tf.keras.layers.Dense(64, activation='relu'),\n",
        "    tf.keras.layers.Dense(1)\n",
        "])"
      ],
      "metadata": {
        "id": "RADpSQJ3w55w"
      },
      "execution_count": null,
      "outputs": []
    },
    {
      "cell_type": "code",
      "source": [
        "print([layer.supports_masking for layer in model.layers])"
      ],
      "metadata": {
        "colab": {
          "base_uri": "https://localhost:8080/"
        },
        "id": "AiAtfyLDw8pA",
        "outputId": "aaab3978-90f9-4547-a1c8-b01882f4335d"
      },
      "execution_count": null,
      "outputs": [
        {
          "output_type": "stream",
          "name": "stdout",
          "text": [
            "[False, True, True, True, True]\n"
          ]
        }
      ]
    },
    {
      "cell_type": "code",
      "source": [
        "# predict on a sample text without padding.\n",
        "\n",
        "sample_text = ('The movie was cool. The animation and the graphics '\n",
        "               'were out of this world. I would recommend this movie.')\n",
        "predictions = model.predict(np.array([sample_text]))\n",
        "print(predictions[0])"
      ],
      "metadata": {
        "colab": {
          "base_uri": "https://localhost:8080/"
        },
        "id": "neVJ0Fdpw-OD",
        "outputId": "6fad7bb5-58a7-49a9-ca23-0f09d432b1b5"
      },
      "execution_count": null,
      "outputs": [
        {
          "output_type": "stream",
          "name": "stdout",
          "text": [
            "1/1 [==============================] - 4s 4s/step\n",
            "[0.00418821]\n"
          ]
        }
      ]
    },
    {
      "cell_type": "code",
      "source": [
        "# predict on a sample text with padding\n",
        "\n",
        "padding = \"the \" * 2000\n",
        "predictions = model.predict(np.array([sample_text, padding]))\n",
        "print(predictions[0])"
      ],
      "metadata": {
        "colab": {
          "base_uri": "https://localhost:8080/"
        },
        "id": "SHv8SXCXxAQx",
        "outputId": "29675f04-dbb1-4c8e-f0a7-121bc0c501a8"
      },
      "execution_count": null,
      "outputs": [
        {
          "output_type": "stream",
          "name": "stdout",
          "text": [
            "1/1 [==============================] - 0s 111ms/step\n",
            "[0.00418821]\n"
          ]
        }
      ]
    },
    {
      "cell_type": "code",
      "source": [
        "model.compile(loss=tf.keras.losses.BinaryCrossentropy(from_logits=True),\n",
        "              optimizer=tf.keras.optimizers.Adam(1e-4),\n",
        "              metrics=['accuracy'])"
      ],
      "metadata": {
        "id": "bhdP9bEAxB8u"
      },
      "execution_count": null,
      "outputs": []
    },
    {
      "cell_type": "code",
      "source": [
        "history = model.fit(train_dataset, epochs=10,\n",
        "                    validation_data=test_dataset,\n",
        "                    validation_steps=30)"
      ],
      "metadata": {
        "colab": {
          "base_uri": "https://localhost:8080/"
        },
        "id": "laPjUrHBxDiE",
        "outputId": "3bf6e45f-dbac-4445-d65e-49c534f96986"
      },
      "execution_count": null,
      "outputs": [
        {
          "output_type": "stream",
          "name": "stdout",
          "text": [
            "Epoch 1/10\n",
            "391/391 [==============================] - 53s 108ms/step - loss: 0.6335 - accuracy: 0.5882 - val_loss: 0.4754 - val_accuracy: 0.7943\n",
            "Epoch 2/10\n",
            "391/391 [==============================] - 28s 70ms/step - loss: 0.4068 - accuracy: 0.8131 - val_loss: 0.3769 - val_accuracy: 0.8458\n",
            "Epoch 3/10\n",
            "391/391 [==============================] - 27s 68ms/step - loss: 0.3426 - accuracy: 0.8486 - val_loss: 0.3426 - val_accuracy: 0.8526\n",
            "Epoch 4/10\n",
            "391/391 [==============================] - 26s 66ms/step - loss: 0.3235 - accuracy: 0.8602 - val_loss: 0.3627 - val_accuracy: 0.8188\n",
            "Epoch 5/10\n",
            "391/391 [==============================] - 27s 67ms/step - loss: 0.3180 - accuracy: 0.8627 - val_loss: 0.3266 - val_accuracy: 0.8578\n",
            "Epoch 6/10\n",
            "391/391 [==============================] - 27s 68ms/step - loss: 0.3067 - accuracy: 0.8672 - val_loss: 0.3238 - val_accuracy: 0.8557\n",
            "Epoch 7/10\n",
            "391/391 [==============================] - 27s 69ms/step - loss: 0.3045 - accuracy: 0.8693 - val_loss: 0.3228 - val_accuracy: 0.8557\n",
            "Epoch 8/10\n",
            "391/391 [==============================] - 27s 69ms/step - loss: 0.3033 - accuracy: 0.8684 - val_loss: 0.3469 - val_accuracy: 0.8609\n",
            "Epoch 9/10\n",
            "391/391 [==============================] - 27s 68ms/step - loss: 0.2997 - accuracy: 0.8704 - val_loss: 0.3209 - val_accuracy: 0.8557\n",
            "Epoch 10/10\n",
            "391/391 [==============================] - 27s 67ms/step - loss: 0.2967 - accuracy: 0.8736 - val_loss: 0.3295 - val_accuracy: 0.8411\n"
          ]
        }
      ]
    },
    {
      "cell_type": "code",
      "source": [
        "test_loss, test_acc = model.evaluate(test_dataset)\n",
        "\n",
        "print('Test Loss:', test_loss)\n",
        "print('Test Accuracy:', test_acc)"
      ],
      "metadata": {
        "colab": {
          "base_uri": "https://localhost:8080/"
        },
        "id": "nVWq4HYDxFK7",
        "outputId": "043ba619-d186-44ad-a5fb-82017194c8f1"
      },
      "execution_count": null,
      "outputs": [
        {
          "output_type": "stream",
          "name": "stdout",
          "text": [
            "391/391 [==============================] - 12s 32ms/step - loss: 0.3257 - accuracy: 0.8437\n",
            "Test Loss: 0.3257487118244171\n",
            "Test Accuracy: 0.8436800241470337\n"
          ]
        }
      ]
    },
    {
      "cell_type": "code",
      "source": [
        "import matplotlib.pyplot as plt\n",
        "\n",
        "def plot_graphs(history, metric):\n",
        "  plt.plot(history.history[metric])\n",
        "  plt.plot(history.history['val_'+metric], '')\n",
        "  plt.xlabel(\"Epochs\")\n",
        "  plt.ylabel(metric)\n",
        "  plt.legend([metric, 'val_'+metric])"
      ],
      "metadata": {
        "id": "uh2HFYnfxG-J"
      },
      "execution_count": null,
      "outputs": []
    },
    {
      "cell_type": "code",
      "source": [
        "plt.figure(figsize=(16, 8))\n",
        "plt.subplot(1, 2, 1)\n",
        "plot_graphs(history, 'accuracy')\n",
        "plt.ylim(None, 1)\n",
        "plt.subplot(1, 2, 2)\n",
        "plot_graphs(history, 'loss')\n",
        "plt.ylim(0, None)"
      ],
      "metadata": {
        "colab": {
          "base_uri": "https://localhost:8080/",
          "height": 718
        },
        "id": "dW7fBLGuxJlr",
        "outputId": "8fb82b77-e86a-49ba-bfff-3e1a5756badb"
      },
      "execution_count": null,
      "outputs": [
        {
          "output_type": "execute_result",
          "data": {
            "text/plain": [
              "(0.0, 0.6502959132194519)"
            ]
          },
          "metadata": {},
          "execution_count": 18
        },
        {
          "output_type": "display_data",
          "data": {
            "text/plain": [
              "<Figure size 1600x800 with 2 Axes>"
            ],
            "image/png": "[encoded data removed]"
          },
          "metadata": {}
        }
      ]
    },
    {
      "cell_type": "code",
      "source": [
        "sample_text = ('The movie was cool. The animation and the graphics '\n",
        "'were out of this world. I would recommend this movie.')\n",
        "predictions = model.predict(np.array([sample_text]))"
      ],
      "metadata": {
        "colab": {
          "base_uri": "https://localhost:8080/"
        },
        "id": "WvFxynJJxNIu",
        "outputId": "fc2605c2-adae-4e77-8f37-9d65fc4d8d12"
      },
      "execution_count": null,
      "outputs": [
        {
          "output_type": "stream",
          "name": "stdout",
          "text": [
            "1/1 [==============================] - 3s 3s/step\n"
          ]
        }
      ]
    },
    {
      "cell_type": "code",
      "source": [
        "model = tf.keras.Sequential([\n",
        "   encoder,\n",
        "    tf.keras.layers.Embedding(len(encoder.get_vocabulary()), 64, mask_zero=True),\n",
        "    tf.keras.layers.Bidirectional(tf.keras.layers.LSTM(64, return_sequences=True)),\n",
        "    tf.keras.layers.Bidirectional(tf.keras.layers.LSTM(32)),\n",
        "    tf.keras.layers.Dense(64, activation='relu'),\n",
        "    tf.keras.layers.Dropout(0.5),\n",
        "    tf.keras.layers.Dense(1)\n",
        "])"
      ],
      "metadata": {
        "id": "iXmaJ3sExPZV"
      },
      "execution_count": null,
      "outputs": []
    },
    {
      "cell_type": "code",
      "source": [
        "model.compile(loss=tf.keras.losses.BinaryCrossentropy(from_logits=True),\n",
        "              optimizer=tf.keras.optimizers.Adam(1e-4),\n",
        "              metrics=['accuracy'])"
      ],
      "metadata": {
        "id": "5LwCvVW9xRBV"
      },
      "execution_count": null,
      "outputs": []
    },
    {
      "cell_type": "code",
      "source": [
        "history = model.fit(train_dataset, epochs=10,\n",
        "                validation_data=test_dataset,\n",
        "                validation_steps=30)"
      ],
      "metadata": {
        "colab": {
          "base_uri": "https://localhost:8080/"
        },
        "id": "vTajoEt3xSiV",
        "outputId": "f22bcb31-3909-4336-ae24-504796363282"
      },
      "execution_count": null,
      "outputs": [
        {
          "output_type": "stream",
          "name": "stdout",
          "text": [
            "Epoch 1/10\n",
            "391/391 [==============================] - 80s 159ms/step - loss: 0.6713 - accuracy: 0.5556 - val_loss: 0.6165 - val_accuracy: 0.4917\n",
            "Epoch 2/10\n",
            "391/391 [==============================] - 49s 125ms/step - loss: 0.4695 - accuracy: 0.7638 - val_loss: 0.3953 - val_accuracy: 0.8281\n",
            "Epoch 3/10\n",
            "391/391 [==============================] - 49s 125ms/step - loss: 0.3755 - accuracy: 0.8380 - val_loss: 0.3579 - val_accuracy: 0.8422\n",
            "Epoch 4/10\n",
            "391/391 [==============================] - 48s 122ms/step - loss: 0.3361 - accuracy: 0.8558 - val_loss: 0.3382 - val_accuracy: 0.8505\n",
            "Epoch 5/10\n",
            "391/391 [==============================] - 50s 128ms/step - loss: 0.3195 - accuracy: 0.8639 - val_loss: 0.3264 - val_accuracy: 0.8505\n",
            "Epoch 6/10\n",
            "391/391 [==============================] - 49s 125ms/step - loss: 0.3109 - accuracy: 0.8673 - val_loss: 0.3206 - val_accuracy: 0.8542\n",
            "Epoch 7/10\n",
            "391/391 [==============================] - 50s 127ms/step - loss: 0.3059 - accuracy: 0.8684 - val_loss: 0.3198 - val_accuracy: 0.8609\n",
            "Epoch 8/10\n",
            "391/391 [==============================] - 49s 125ms/step - loss: 0.2998 - accuracy: 0.8733 - val_loss: 0.3177 - val_accuracy: 0.8573\n",
            "Epoch 9/10\n",
            "391/391 [==============================] - 48s 121ms/step - loss: 0.3011 - accuracy: 0.8701 - val_loss: 0.3193 - val_accuracy: 0.8557\n",
            "Epoch 10/10\n",
            "391/391 [==============================] - 50s 127ms/step - loss: 0.2970 - accuracy: 0.8732 - val_loss: 0.3259 - val_accuracy: 0.8589\n"
          ]
        }
      ]
    },
    {
      "cell_type": "markdown",
      "source": [
        "# Praktikum 2"
      ],
      "metadata": {
        "id": "gV4YMrQCxpIf"
      }
    },
    {
      "cell_type": "code",
      "source": [
        "import tensorflow as tf\n",
        "import numpy as np\n",
        "import os\n",
        "import time"
      ],
      "metadata": {
        "id": "R1IqIGhQxqim"
      },
      "execution_count": null,
      "outputs": []
    },
    {
      "cell_type": "code",
      "source": [
        "import tensorflow as tf\n",
        "\n",
        "path_to_file = tf.keras.utils.get_file('shakespeare.txt', 'https://storage.googleapis.com/download.tensorflow.org/data/shakespeare.txt')\n"
      ],
      "metadata": {
        "colab": {
          "base_uri": "https://localhost:8080/"
        },
        "id": "4LFr2nzYOPW8",
        "outputId": "b008f6e7-6cab-4f4d-910e-9f01980e3a52"
      },
      "execution_count": null,
      "outputs": [
        {
          "output_type": "stream",
          "name": "stdout",
          "text": [
            "Downloading data from https://storage.googleapis.com/download.tensorflow.org/data/shakespeare.txt\n",
            "1115394/1115394 [==============================] - 0s 0us/step\n"
          ]
        }
      ]
    },
    {
      "cell_type": "code",
      "source": [
        "# Read, then decode for py2 compat.\n",
        "text = open(path_to_file, 'rb').read().decode(encoding='utf-8')\n",
        "# length of text is the number of characters in it\n",
        "print(f'Length of text: {len(text)} characters')"
      ],
      "metadata": {
        "colab": {
          "base_uri": "https://localhost:8080/"
        },
        "id": "as4jkoAByA3O",
        "outputId": "6c265f5a-ee48-423f-9e55-0287b7a507c1"
      },
      "execution_count": null,
      "outputs": [
        {
          "output_type": "stream",
          "name": "stdout",
          "text": [
            "Length of text: 1115394 characters\n"
          ]
        }
      ]
    },
    {
      "cell_type": "code",
      "source": [
        "# Take a look at the first 250 characters in text\n",
        "print(text[:250])"
      ],
      "metadata": {
        "colab": {
          "base_uri": "https://localhost:8080/"
        },
        "id": "T4nNMT85PPyW",
        "outputId": "b142a55c-cfa1-41ea-d359-72047ce5d2cf"
      },
      "execution_count": 31,
      "outputs": [
        {
          "output_type": "stream",
          "name": "stdout",
          "text": [
            "First Citizen:\n",
            "Before we proceed any further, hear me speak.\n",
            "\n",
            "All:\n",
            "Speak, speak.\n",
            "\n",
            "First Citizen:\n",
            "You are all resolved rather to die than to famish?\n",
            "\n",
            "All:\n",
            "Resolved. resolved.\n",
            "\n",
            "First Citizen:\n",
            "First, you know Caius Marcius is chief enemy to the people.\n",
            "\n"
          ]
        }
      ]
    },
    {
      "cell_type": "code",
      "source": [
        "# The unique characters in the file\n",
        "vocab = sorted(set(text))\n",
        "print(f'{len(vocab)} unique characters')"
      ],
      "metadata": {
        "colab": {
          "base_uri": "https://localhost:8080/"
        },
        "id": "6X2MlN5uPTg1",
        "outputId": "5b0b5e30-dce6-4f1b-c7e2-53d0819875c4"
      },
      "execution_count": 32,
      "outputs": [
        {
          "output_type": "stream",
          "name": "stdout",
          "text": [
            "65 unique characters\n"
          ]
        }
      ]
    },
    {
      "cell_type": "code",
      "source": [
        "import tensorflow as tf\n",
        "\n",
        "example_texts = ['abcdefg', 'xyz']\n",
        "chars = tf.strings.unicode_split(example_texts, input_encoding='UTF-8')\n",
        "chars\n"
      ],
      "metadata": {
        "colab": {
          "base_uri": "https://localhost:8080/"
        },
        "id": "nQSspNKDPVu1",
        "outputId": "6f136dc4-6ed7-405d-9bec-503307d66480"
      },
      "execution_count": 34,
      "outputs": [
        {
          "output_type": "execute_result",
          "data": {
            "text/plain": [
              "<tf.RaggedTensor [[b'a', b'b', b'c', b'd', b'e', b'f', b'g'], [b'x', b'y', b'z']]>"
            ]
          },
          "metadata": {},
          "execution_count": 34
        }
      ]
    },
    {
      "cell_type": "code",
      "source": [
        "ids_from_chars = tf.keras.layers.StringLookup(\n",
        "vocabulary=list(vocab),mask_token=None)"
      ],
      "metadata": {
        "id": "O-zNTwQPPfS9"
      },
      "execution_count": 36,
      "outputs": []
    },
    {
      "cell_type": "code",
      "source": [
        "ids = ids_from_chars(chars)\n",
        "ids"
      ],
      "metadata": {
        "colab": {
          "base_uri": "https://localhost:8080/"
        },
        "id": "moibNMO4PmqA",
        "outputId": "3e31103a-c804-4060-c699-7fc9eba3b60b"
      },
      "execution_count": 38,
      "outputs": [
        {
          "output_type": "execute_result",
          "data": {
            "text/plain": [
              "<tf.RaggedTensor [[40, 41, 42, 43, 44, 45, 46], [63, 64, 65]]>"
            ]
          },
          "metadata": {},
          "execution_count": 38
        }
      ]
    },
    {
      "cell_type": "code",
      "source": [
        "chars_from_ids = tf.keras.layers.StringLookup(\n",
        "    vocabulary=ids_from_chars.get_vocabulary(), invert=True, mask_token=None)"
      ],
      "metadata": {
        "id": "zjv8Z7iIPrrQ"
      },
      "execution_count": 39,
      "outputs": []
    },
    {
      "cell_type": "code",
      "source": [
        "chars = chars_from_ids(ids)\n",
        "chars\n"
      ],
      "metadata": {
        "colab": {
          "base_uri": "https://localhost:8080/"
        },
        "id": "Ldlm4LFLPuTa",
        "outputId": "e45ac27b-3852-445d-ff9a-bc84ee226c24"
      },
      "execution_count": 40,
      "outputs": [
        {
          "output_type": "execute_result",
          "data": {
            "text/plain": [
              "<tf.RaggedTensor [[b'a', b'b', b'c', b'd', b'e', b'f', b'g'], [b'x', b'y', b'z']]>"
            ]
          },
          "metadata": {},
          "execution_count": 40
        }
      ]
    },
    {
      "cell_type": "code",
      "source": [
        "tf.strings.reduce_join(chars, axis=-1).numpy()"
      ],
      "metadata": {
        "colab": {
          "base_uri": "https://localhost:8080/"
        },
        "id": "WdbshAJDPvEm",
        "outputId": "a72bcdc7-64e1-481e-b37f-312a71349a11"
      },
      "execution_count": 41,
      "outputs": [
        {
          "output_type": "execute_result",
          "data": {
            "text/plain": [
              "array([b'abcdefg', b'xyz'], dtype=object)"
            ]
          },
          "metadata": {},
          "execution_count": 41
        }
      ]
    },
    {
      "cell_type": "code",
      "source": [
        "def text_from_ids(ids):\n",
        "    return tf.strings.reduce_join(chars_from_ids(ids), axis=-1)"
      ],
      "metadata": {
        "id": "Mmhol2UtPw6N"
      },
      "execution_count": 42,
      "outputs": []
    },
    {
      "cell_type": "code",
      "source": [
        "all_ids = ids_from_chars(tf.strings.unicode_split(text, 'UTF-8'))\n",
        "all_ids"
      ],
      "metadata": {
        "colab": {
          "base_uri": "https://localhost:8080/"
        },
        "id": "Z-K-VRbwPzDz",
        "outputId": "3e629d96-755d-430e-ea3c-507d8ef52197"
      },
      "execution_count": 43,
      "outputs": [
        {
          "output_type": "execute_result",
          "data": {
            "text/plain": [
              "<tf.Tensor: shape=(1115394,), dtype=int64, numpy=array([19, 48, 57, ..., 46,  9,  1])>"
            ]
          },
          "metadata": {},
          "execution_count": 43
        }
      ]
    },
    {
      "cell_type": "code",
      "source": [
        "ids_dataset = tf.data.Dataset.from_tensor_slices(all_ids)"
      ],
      "metadata": {
        "id": "nBU-vYx4P0_z"
      },
      "execution_count": 44,
      "outputs": []
    },
    {
      "cell_type": "code",
      "source": [
        "for ids in ids_dataset.take(10):\n",
        "    print(chars_from_ids(ids).numpy().decode('utf-8'))"
      ],
      "metadata": {
        "colab": {
          "base_uri": "https://localhost:8080/"
        },
        "id": "ki3Erg1RP2vr",
        "outputId": "880692c8-92ea-418f-84a7-fbb5c76f3741"
      },
      "execution_count": 45,
      "outputs": [
        {
          "output_type": "stream",
          "name": "stdout",
          "text": [
            "F\n",
            "i\n",
            "r\n",
            "s\n",
            "t\n",
            " \n",
            "C\n",
            "i\n",
            "t\n",
            "i\n"
          ]
        }
      ]
    },
    {
      "cell_type": "code",
      "source": [
        "seq_length = 100"
      ],
      "metadata": {
        "id": "_n7CNTutP5gY"
      },
      "execution_count": 46,
      "outputs": []
    },
    {
      "cell_type": "code",
      "source": [
        "sequences = ids_dataset.batch(seq_length+1, drop_remainder=True)\n",
        "\n",
        "for seq in sequences.take(1):\n",
        "  print(chars_from_ids(seq))"
      ],
      "metadata": {
        "colab": {
          "base_uri": "https://localhost:8080/"
        },
        "id": "bkfVou2OP7z9",
        "outputId": "08c0aee1-b19d-4e63-9c63-0445524810cb"
      },
      "execution_count": 47,
      "outputs": [
        {
          "output_type": "stream",
          "name": "stdout",
          "text": [
            "tf.Tensor(\n",
            "[b'F' b'i' b'r' b's' b't' b' ' b'C' b'i' b't' b'i' b'z' b'e' b'n' b':'\n",
            " b'\\n' b'B' b'e' b'f' b'o' b'r' b'e' b' ' b'w' b'e' b' ' b'p' b'r' b'o'\n",
            " b'c' b'e' b'e' b'd' b' ' b'a' b'n' b'y' b' ' b'f' b'u' b'r' b't' b'h'\n",
            " b'e' b'r' b',' b' ' b'h' b'e' b'a' b'r' b' ' b'm' b'e' b' ' b's' b'p'\n",
            " b'e' b'a' b'k' b'.' b'\\n' b'\\n' b'A' b'l' b'l' b':' b'\\n' b'S' b'p' b'e'\n",
            " b'a' b'k' b',' b' ' b's' b'p' b'e' b'a' b'k' b'.' b'\\n' b'\\n' b'F' b'i'\n",
            " b'r' b's' b't' b' ' b'C' b'i' b't' b'i' b'z' b'e' b'n' b':' b'\\n' b'Y'\n",
            " b'o' b'u' b' '], shape=(101,), dtype=string)\n"
          ]
        }
      ]
    },
    {
      "cell_type": "code",
      "source": [
        "for seq in sequences.take(5):\n",
        "    print(text_from_ids(seq).numpy())"
      ],
      "metadata": {
        "colab": {
          "base_uri": "https://localhost:8080/"
        },
        "id": "whGOfqimP-AW",
        "outputId": "8942a0ff-d65d-4b8c-c459-38c0cdf9419d"
      },
      "execution_count": 48,
      "outputs": [
        {
          "output_type": "stream",
          "name": "stdout",
          "text": [
            "b'First Citizen:\\nBefore we proceed any further, hear me speak.\\n\\nAll:\\nSpeak, speak.\\n\\nFirst Citizen:\\nYou '\n",
            "b'are all resolved rather to die than to famish?\\n\\nAll:\\nResolved. resolved.\\n\\nFirst Citizen:\\nFirst, you k'\n",
            "b\"now Caius Marcius is chief enemy to the people.\\n\\nAll:\\nWe know't, we know't.\\n\\nFirst Citizen:\\nLet us ki\"\n",
            "b\"ll him, and we'll have corn at our own price.\\nIs't a verdict?\\n\\nAll:\\nNo more talking on't; let it be d\"\n",
            "b'one: away, away!\\n\\nSecond Citizen:\\nOne word, good citizens.\\n\\nFirst Citizen:\\nWe are accounted poor citi'\n"
          ]
        }
      ]
    },
    {
      "cell_type": "code",
      "source": [
        "def split_input_target(sequence):\n",
        "    input_text = sequence[:-1]\n",
        "    target_text = sequence[1:]\n",
        "    return input_text, target_text"
      ],
      "metadata": {
        "id": "Q6L8Z0znP_px"
      },
      "execution_count": 49,
      "outputs": []
    },
    {
      "cell_type": "code",
      "source": [
        "split_input_target(list(\"Tensorflow\"))"
      ],
      "metadata": {
        "colab": {
          "base_uri": "https://localhost:8080/"
        },
        "id": "1izkzyerQC31",
        "outputId": "6a6545e3-aacd-42f9-ca0b-388d2c3980c6"
      },
      "execution_count": 50,
      "outputs": [
        {
          "output_type": "execute_result",
          "data": {
            "text/plain": [
              "(['T', 'e', 'n', 's', 'o', 'r', 'f', 'l', 'o'],\n",
              " ['e', 'n', 's', 'o', 'r', 'f', 'l', 'o', 'w'])"
            ]
          },
          "metadata": {},
          "execution_count": 50
        }
      ]
    },
    {
      "cell_type": "code",
      "source": [
        "dataset = sequences.map(split_input_target)"
      ],
      "metadata": {
        "id": "zXNfDvVjQFl6"
      },
      "execution_count": 51,
      "outputs": []
    },
    {
      "cell_type": "code",
      "source": [
        "for input_example, target_example in dataset.take(1):\n",
        "    print(\"Input :\", text_from_ids(input_example).numpy())\n",
        "    print(\"Target:\", text_from_ids(target_example).numpy())"
      ],
      "metadata": {
        "colab": {
          "base_uri": "https://localhost:8080/"
        },
        "id": "Wanx1O-gQI9H",
        "outputId": "0a096464-6ac3-45d7-cdb0-92dcd5d023f2"
      },
      "execution_count": 52,
      "outputs": [
        {
          "output_type": "stream",
          "name": "stdout",
          "text": [
            "Input : b'First Citizen:\\nBefore we proceed any further, hear me speak.\\n\\nAll:\\nSpeak, speak.\\n\\nFirst Citizen:\\nYou'\n",
            "Target: b'irst Citizen:\\nBefore we proceed any further, hear me speak.\\n\\nAll:\\nSpeak, speak.\\n\\nFirst Citizen:\\nYou '\n"
          ]
        }
      ]
    },
    {
      "cell_type": "code",
      "source": [
        "# Batch size\n",
        "BATCH_SIZE = 64\n",
        "\n",
        "# Buffer size to shuffle the dataset\n",
        "# (TF data is designed to work with possibly infinite sequences,\n",
        "# so it doesn't attempt to shuffle the entire sequence in memory. Instead,\n",
        "# it maintains a buffer in which it shuffles elements).\n",
        "BUFFER_SIZE = 10000\n",
        "\n",
        "dataset = (\n",
        "    dataset\n",
        "    .shuffle(BUFFER_SIZE)\n",
        "    .batch(BATCH_SIZE, drop_remainder=True)\n",
        "    .prefetch(tf.data.experimental.AUTOTUNE))\n",
        "\n",
        "dataset"
      ],
      "metadata": {
        "colab": {
          "base_uri": "https://localhost:8080/"
        },
        "id": "2UHPOSrbQLXk",
        "outputId": "5e756cd7-1dfb-4170-d809-0b365c118bcb"
      },
      "execution_count": 53,
      "outputs": [
        {
          "output_type": "execute_result",
          "data": {
            "text/plain": [
              "<_PrefetchDataset element_spec=(TensorSpec(shape=(64, 100), dtype=tf.int64, name=None), TensorSpec(shape=(64, 100), dtype=tf.int64, name=None))>"
            ]
          },
          "metadata": {},
          "execution_count": 53
        }
      ]
    },
    {
      "cell_type": "code",
      "source": [
        "# Length of the vocabulary in StringLookup Layer\n",
        "vocab_size = len(ids_from_chars.get_vocabulary())\n",
        "\n",
        "# The embedding dimension\n",
        "embedding_dim = 256\n",
        "\n",
        "# Number of RNN units\n",
        "rnn_units = 1024"
      ],
      "metadata": {
        "id": "TcgRvjGGQNXE"
      },
      "execution_count": 54,
      "outputs": []
    },
    {
      "cell_type": "code",
      "source": [
        "class MyModel(tf.keras.Model):\n",
        "  def __init__(self, vocab_size, embedding_dim, rnn_units):\n",
        "    super().__init__(self)\n",
        "    self.embedding = tf.keras.layers.Embedding(vocab_size, embedding_dim)\n",
        "    self.gru = tf.keras.layers.GRU(rnn_units,\n",
        "                                   return_sequences=True,\n",
        "                                   return_state=True)\n",
        "    self.dense = tf.keras.layers.Dense(vocab_size)\n",
        "\n",
        "  def call(self, inputs, states=None, return_state=False, training=False):\n",
        "    x = inputs\n",
        "    x = self.embedding(x, training=training)\n",
        "    if states is None:\n",
        "      states = self.gru.get_initial_state(x)\n",
        "    x, states = self.gru(x, initial_state=states, training=training)\n",
        "    x = self.dense(x, training=training)\n",
        "\n",
        "    if return_state:\n",
        "      return x, states\n",
        "    else:\n",
        "      return x"
      ],
      "metadata": {
        "id": "3cKmwd6RQOOK"
      },
      "execution_count": 55,
      "outputs": []
    },
    {
      "cell_type": "code",
      "source": [
        "model = MyModel(\n",
        "    vocab_size=vocab_size,\n",
        "    embedding_dim=embedding_dim,\n",
        "    rnn_units=rnn_units)"
      ],
      "metadata": {
        "id": "hSb4ztU0QP7S"
      },
      "execution_count": 56,
      "outputs": []
    },
    {
      "cell_type": "code",
      "source": [
        "for input_example_batch, target_example_batch in dataset.take(1):\n",
        "    example_batch_predictions = model(input_example_batch)\n",
        "    print(example_batch_predictions.shape, \"# (batch_size, sequence_length, vocab_size)\")"
      ],
      "metadata": {
        "colab": {
          "base_uri": "https://localhost:8080/"
        },
        "id": "Tm4ppK_6QRdt",
        "outputId": "819b3506-4a9c-45e9-e53e-792c05ddb7a3"
      },
      "execution_count": 57,
      "outputs": [
        {
          "output_type": "stream",
          "name": "stdout",
          "text": [
            "(64, 100, 66) # (batch_size, sequence_length, vocab_size)\n"
          ]
        }
      ]
    },
    {
      "cell_type": "code",
      "source": [
        "model.summary()"
      ],
      "metadata": {
        "colab": {
          "base_uri": "https://localhost:8080/"
        },
        "id": "RjlXn68yQTFP",
        "outputId": "7e4e83d6-10df-4879-80b2-6b59866e9d2e"
      },
      "execution_count": 58,
      "outputs": [
        {
          "output_type": "stream",
          "name": "stdout",
          "text": [
            "Model: \"my_model\"\n",
            "_________________________________________________________________\n",
            " Layer (type)                Output Shape              Param #   \n",
            "=================================================================\n",
            " embedding_2 (Embedding)     multiple                  16896     \n",
            "                                                                 \n",
            " gru (GRU)                   multiple                  3938304   \n",
            "                                                                 \n",
            " dense_4 (Dense)             multiple                  67650     \n",
            "                                                                 \n",
            "=================================================================\n",
            "Total params: 4022850 (15.35 MB)\n",
            "Trainable params: 4022850 (15.35 MB)\n",
            "Non-trainable params: 0 (0.00 Byte)\n",
            "_________________________________________________________________\n"
          ]
        }
      ]
    },
    {
      "cell_type": "code",
      "source": [
        "sampled_indices = tf.random.categorical(example_batch_predictions[0],num_samples=1)\n",
        "sampled_indices = tf.squeeze(sampled_indices, axis=-1).numpy()"
      ],
      "metadata": {
        "id": "vhannF6rQUcX"
      },
      "execution_count": 59,
      "outputs": []
    },
    {
      "cell_type": "code",
      "source": [
        "sampled_indices"
      ],
      "metadata": {
        "colab": {
          "base_uri": "https://localhost:8080/"
        },
        "id": "NTgh5BLeQWOC",
        "outputId": "cceb0273-fc4a-4dd8-c085-d77db71676fb"
      },
      "execution_count": 60,
      "outputs": [
        {
          "output_type": "execute_result",
          "data": {
            "text/plain": [
              "array([17, 33, 36, 58, 42, 37, 21, 49, 49,  9, 55,  9, 24,  0, 47, 57, 55,\n",
              "       60, 56,  4, 38, 59, 61,  2, 49, 62, 63, 43, 39, 48, 52, 14, 16, 18,\n",
              "        8, 10, 17, 29,  6, 13, 29, 62, 54, 13, 34, 40,  7, 41, 50,  9, 13,\n",
              "       24, 31, 56, 23, 34, 64, 21, 44, 34,  3, 12,  9, 30, 11, 40, 47, 14,\n",
              "        8, 45, 58, 11, 47, 34, 64, 48, 54, 48,  3, 18,  9, 37,  0, 64, 25,\n",
              "       52, 26, 21, 25, 19, 54, 33,  7, 16, 25, 13, 54, 52,  4, 17])"
            ]
          },
          "metadata": {},
          "execution_count": 60
        }
      ]
    },
    {
      "cell_type": "code",
      "source": [
        "print(\"Input:\\n\", text_from_ids(input_example_batch[0]).numpy())\n",
        "print()\n",
        "print(\"Next Char Predictions:\\n\", text_from_ids(sampled_indices).numpy())"
      ],
      "metadata": {
        "colab": {
          "base_uri": "https://localhost:8080/"
        },
        "id": "eV4rBBK5QZW5",
        "outputId": "e4dda45b-8b84-489b-9f6d-1ae934f7f3d9"
      },
      "execution_count": 61,
      "outputs": [
        {
          "output_type": "stream",
          "name": "stdout",
          "text": [
            "Input:\n",
            " b'ddenly will have\\nThe truth of this appear. Prepare you, lords;\\nSummon a session, that we may arraign'\n",
            "\n",
            "Next Char Predictions:\n",
            " b\"DTWscXHjj.p.K[UNK]hrpuq$Ytv jwxdZimACE-3DP'?Pwo?Ua,bk.?KRqJUyHeU!;.Q:ahA-fs:hUyioi!E.X[UNK]yLmMHLFoT,CL?om$D\"\n"
          ]
        }
      ]
    },
    {
      "cell_type": "code",
      "source": [
        "loss = tf.losses.SparseCategoricalCrossentropy(from_logits=True)"
      ],
      "metadata": {
        "id": "beO0u4wxQbmA"
      },
      "execution_count": 62,
      "outputs": []
    },
    {
      "cell_type": "code",
      "source": [
        "example_batch_mean_loss = loss(target_example_batch, example_batch_predictions)\n",
        "print(\"Prediction shape: \", example_batch_predictions.shape, \" # (batch_size, sequence_length, vocab_size)\")\n",
        "print(\"Mean loss:        \", example_batch_mean_loss)"
      ],
      "metadata": {
        "colab": {
          "base_uri": "https://localhost:8080/"
        },
        "id": "Fdg0ApvQQdJs",
        "outputId": "76709d4d-08e8-47f4-d014-abc4e595aed0"
      },
      "execution_count": 63,
      "outputs": [
        {
          "output_type": "stream",
          "name": "stdout",
          "text": [
            "Prediction shape:  (64, 100, 66)  # (batch_size, sequence_length, vocab_size)\n",
            "Mean loss:         tf.Tensor(4.1904936, shape=(), dtype=float32)\n"
          ]
        }
      ]
    },
    {
      "cell_type": "code",
      "source": [
        "tf.exp(example_batch_mean_loss).numpy()"
      ],
      "metadata": {
        "colab": {
          "base_uri": "https://localhost:8080/"
        },
        "id": "dXPEkngKQed-",
        "outputId": "97c36b2d-217f-47e8-ea67-42618292e010"
      },
      "execution_count": 64,
      "outputs": [
        {
          "output_type": "execute_result",
          "data": {
            "text/plain": [
              "66.05539"
            ]
          },
          "metadata": {},
          "execution_count": 64
        }
      ]
    },
    {
      "cell_type": "code",
      "source": [
        "model.compile(optimizer='adam', loss=loss)"
      ],
      "metadata": {
        "id": "x840cMW7Qf0v"
      },
      "execution_count": 65,
      "outputs": []
    },
    {
      "cell_type": "code",
      "source": [
        "# Directory where the checkpoints will be saved\n",
        "checkpoint_dir = './training_checkpoints'\n",
        "# Name of the checkpoint files\n",
        "checkpoint_prefix = os.path.join(checkpoint_dir, \"ckpt_{epoch}\")\n",
        "\n",
        "checkpoint_callback = tf.keras.callbacks.ModelCheckpoint(\n",
        "    filepath=checkpoint_prefix,\n",
        "    save_weights_only=True)"
      ],
      "metadata": {
        "id": "2jYGMqGEQhAe"
      },
      "execution_count": 66,
      "outputs": []
    },
    {
      "cell_type": "code",
      "source": [
        "EPOCHS = 20\n",
        "\n",
        "history = model.fit(dataset, epochs=EPOCHS, callbacks=[checkpoint_callback])"
      ],
      "metadata": {
        "colab": {
          "base_uri": "https://localhost:8080/"
        },
        "id": "FNfUKqzuQjKj",
        "outputId": "f19874ef-bad7-4ce5-8103-2dcae3ff71bf"
      },
      "execution_count": 67,
      "outputs": [
        {
          "output_type": "stream",
          "name": "stdout",
          "text": [
            "Epoch 1/20\n",
            "172/172 [==============================] - 15s 60ms/step - loss: 2.7157\n",
            "Epoch 2/20\n",
            "172/172 [==============================] - 13s 56ms/step - loss: 1.9836\n",
            "Epoch 3/20\n",
            "172/172 [==============================] - 13s 57ms/step - loss: 1.7125\n",
            "Epoch 4/20\n",
            "172/172 [==============================] - 12s 57ms/step - loss: 1.5531\n",
            "Epoch 5/20\n",
            "172/172 [==============================] - 12s 58ms/step - loss: 1.4543\n",
            "Epoch 6/20\n",
            "172/172 [==============================] - 13s 59ms/step - loss: 1.3859\n",
            "Epoch 7/20\n",
            "172/172 [==============================] - 13s 60ms/step - loss: 1.3341\n",
            "Epoch 8/20\n",
            "172/172 [==============================] - 12s 61ms/step - loss: 1.2883\n",
            "Epoch 9/20\n",
            "172/172 [==============================] - 13s 61ms/step - loss: 1.2480\n",
            "Epoch 10/20\n",
            "172/172 [==============================] - 14s 62ms/step - loss: 1.2087\n",
            "Epoch 11/20\n",
            "172/172 [==============================] - 14s 62ms/step - loss: 1.1692\n",
            "Epoch 12/20\n",
            "172/172 [==============================] - 14s 61ms/step - loss: 1.1288\n",
            "Epoch 13/20\n",
            "172/172 [==============================] - 12s 61ms/step - loss: 1.0854\n",
            "Epoch 14/20\n",
            "172/172 [==============================] - 12s 61ms/step - loss: 1.0397\n",
            "Epoch 15/20\n",
            "172/172 [==============================] - 13s 62ms/step - loss: 0.9915\n",
            "Epoch 16/20\n",
            "172/172 [==============================] - 13s 62ms/step - loss: 0.9402\n",
            "Epoch 17/20\n",
            "172/172 [==============================] - 12s 62ms/step - loss: 0.8874\n",
            "Epoch 18/20\n",
            "172/172 [==============================] - 13s 62ms/step - loss: 0.8344\n",
            "Epoch 19/20\n",
            "172/172 [==============================] - 13s 62ms/step - loss: 0.7833\n",
            "Epoch 20/20\n",
            "172/172 [==============================] - 13s 62ms/step - loss: 0.7323\n"
          ]
        }
      ]
    },
    {
      "cell_type": "code",
      "source": [
        "class OneStep(tf.keras.Model):\n",
        "  def __init__(self, model, chars_from_ids, ids_from_chars, temperature=1.0):\n",
        "    super().__init__()\n",
        "    self.temperature = temperature\n",
        "    self.model = model\n",
        "    self.chars_from_ids = chars_from_ids\n",
        "    self.ids_from_chars = ids_from_chars\n",
        "\n",
        "    # Create a mask to prevent \"[UNK]\" from being generated.\n",
        "    skip_ids = self.ids_from_chars(['[UNK]'])[:, None]\n",
        "    sparse_mask = tf.SparseTensor(\n",
        "        # Put a -inf at each bad index.\n",
        "        values=[-float('inf')]*len(skip_ids),\n",
        "        indices=skip_ids,\n",
        "        # Match the shape to the vocabulary\n",
        "        dense_shape=[len(ids_from_chars.get_vocabulary())])\n",
        "    self.prediction_mask = tf.sparse.to_dense(sparse_mask)\n",
        "\n",
        "  @tf.function\n",
        "  def generate_one_step(self, inputs, states=None):\n",
        "    # Convert strings to token IDs.\n",
        "    input_chars = tf.strings.unicode_split(inputs, 'UTF-8')\n",
        "    input_ids = self.ids_from_chars(input_chars).to_tensor()\n",
        "\n",
        "    # Run the model.\n",
        "    # predicted_logits.shape is [batch, char, next_char_logits]\n",
        "    predicted_logits, states = self.model(inputs=input_ids, states=states,\n",
        "                                          return_state=True)\n",
        "    # Only use the last prediction.\n",
        "    predicted_logits = predicted_logits[:, -1, :]\n",
        "    predicted_logits = predicted_logits/self.temperature\n",
        "    # Apply the prediction mask: prevent \"[UNK]\" from being generated.\n",
        "    predicted_logits = predicted_logits + self.prediction_mask\n",
        "\n",
        "    # Sample the output logits to generate token IDs.\n",
        "    predicted_ids = tf.random.categorical(predicted_logits, num_samples=1)\n",
        "    predicted_ids = tf.squeeze(predicted_ids, axis=-1)\n",
        "\n",
        "    # Convert from token ids to characters\n",
        "    predicted_chars = self.chars_from_ids(predicted_ids)\n",
        "\n",
        "    # Return the characters and model state.\n",
        "    return predicted_chars, states"
      ],
      "metadata": {
        "id": "bkDaz7HNQlnA"
      },
      "execution_count": 68,
      "outputs": []
    },
    {
      "cell_type": "code",
      "source": [
        "one_step_model = OneStep(model, chars_from_ids, ids_from_chars)"
      ],
      "metadata": {
        "id": "8VenavLRTMmQ"
      },
      "execution_count": 69,
      "outputs": []
    },
    {
      "cell_type": "code",
      "source": [
        "start = time.time()\n",
        "states = None\n",
        "next_char = tf.constant(['ROMEO:'])\n",
        "result = [next_char]\n",
        "\n",
        "for n in range(1000):\n",
        "  next_char, states = one_step_model.generate_one_step(next_char, states=states)\n",
        "  result.append(next_char)\n",
        "\n",
        "result = tf.strings.join(result)\n",
        "end = time.time()\n",
        "print(result[0].numpy().decode('utf-8'), '\\n\\n' + '_'*80)\n",
        "print('\\nRun time:', end - start)"
      ],
      "metadata": {
        "colab": {
          "base_uri": "https://localhost:8080/"
        },
        "id": "MpJKsP8mTZ16",
        "outputId": "fda0e8a3-de4f-49cd-c0c1-26e61e57fb75"
      },
      "execution_count": 70,
      "outputs": [
        {
          "output_type": "stream",
          "name": "stdout",
          "text": [
            "ROMEO:\n",
            "The souls of mine own beatted companymants.\n",
            "\n",
            "BARNARDONE:\n",
            "Brother, sir.\n",
            "\n",
            "VIRGILIA:\n",
            "Then should, and I follow you;\n",
            "Even of the minist neck, whose lasts\n",
            "Of what is little fought and night: here is my pains,\n",
            "To-day to love, hear me parcels livers;\n",
            "Apport Still, the flowers can that True; which to hinder\n",
            "Were it keens of tears and souls,\n",
            "Like proceddess; or else a foot\n",
            "Upon my soul is not a palacces for a little,\n",
            "And more and foul weather with your clothe: hark you\n",
            "You sit by what she middes of her\n",
            "come with Margaret: thy wisdom way,\n",
            "Hen let in familiar draws inclined,--\n",
            "Let me see thy happiness; but my hands,\n",
            "Yet west thou slaughter there; it is for hid: I should fair curse\n",
            "To meet again, and stand with vow.\n",
            "\n",
            "SICINIUS:\n",
            "Why do you ne'er hear from her,\n",
            "Doth her accent of it?\n",
            "\n",
            "MENENIUS:\n",
            "And now, good Catesby, he did spend a pawd\n",
            "of what it dangers; why then, who, I say!\n",
            "Go, county thou shades of he?\n",
            "\n",
            "GLOUCESTER:\n",
            "He is a good night!\n",
            "\n",
            "AUTOLYCUS:\n",
            "I hear that idle with holy song, and we here bee \n",
            "\n",
            "________________________________________________________________________________\n",
            "\n",
            "Run time: 7.703930616378784\n"
          ]
        }
      ]
    },
    {
      "cell_type": "code",
      "source": [
        "start = time.time()\n",
        "states = None\n",
        "next_char = tf.constant(['ROMEO:', 'ROMEO:', 'ROMEO:', 'ROMEO:', 'ROMEO:'])\n",
        "result = [next_char]\n",
        "\n",
        "for n in range(1000):\n",
        "  next_char, states = one_step_model.generate_one_step(next_char, states=states)\n",
        "  result.append(next_char)\n",
        "\n",
        "result = tf.strings.join(result)\n",
        "end = time.time()\n",
        "print(result, '\\n\\n' + '_'*80)\n",
        "print('\\nRun time:', end - start)"
      ],
      "metadata": {
        "colab": {
          "base_uri": "https://localhost:8080/"
        },
        "id": "5UCODV-fTaz7",
        "outputId": "50d24b33-1564-47ff-bba6-571ed2b168ec"
      },
      "execution_count": 71,
      "outputs": [
        {
          "output_type": "stream",
          "name": "stdout",
          "text": [
            "tf.Tensor(\n",
            "[b\"ROMEO:\\nI hope here comes a virture.\\nThis must be say remember'd. I hear thom my son.\\nShould account his son is either.\\n\\nMARIANA:\\nYou are welcome home! why came you?--\\n'Twould twenty Ruchard makes a gentle, and\\nmy standing gesperately. And for Corioli,\\nTo your mistress, partly die preserves;\\nFor, I hare even then will I.\\n\\nCLARENCE:\\nWhat was Marcius?\\nMy comfort is that know this dismon were well desert;\\nWhich, of my child, weeping, old laugh in: I saw him\\nhe is: between within my hence in sad and the\\nAntiatest. Thou execution, when\\nfalse for your silence, he is with care?\\n\\nPOMPEY:\\nSir, if it yet hence!\\n\\nYORK:\\nI know not what; what's leant?\\n\\nFirst Gentleman:\\nHear me, my lord, shall Warwick of Petruchio,\\nThat he hath been usible things: swearing of!\\n\\nFRIAR PETER:\\nCome hither. Meecy,\\nFor in'tis Christian grossmation-wast:\\nSome hangman, drunk as disarved folly; even\\nTo stretch it reckol'd. And, what dost thou my weary!'\\nMy noble voices to me now, who shall be?\\n\\nFirst Soldier:\\nFor this is true; and\"\n",
            " b\"ROMEO:\\nYou're a mile.\\n\\nGREEN:\\nThen shows both with hating twines and milth.\\n\\nTARUS:\\nAway with her! a party for my oath,\\nUnwith you asleep. Go, penally; come forth,\\nAnd officer all of harls-wearteen will.\\n\\nKING HENRY VI:\\nThink upon him, we'll nou tell me where I should\\nTo see her in the beggar then putting 'twere\\nDost were almost care so first.\\n\\nPROSPERO:\\nHow shall we do?\\n\\nKATHARINA:\\nThere is no more doth weeding of the world:\\nBy the second death be coll cheer'd down, comes,\\nOr ladded hath new straw under the duke with a twof:\\nSirch he couple, of a son, he hath resign'd the fliers\\nIn that some leaguer, who is batied that ill sights\\nFor some that show his fore feats perish.\\n\\nJOHN OF GAUNT:\\nCome, you are worse; which if you cannot me.\\nI forn you to such son: he stirs offesched ages clam in tears?\\nWere taking thy kinsmen and his allies:\\nBeing but empart, when IWall and obedience--\\n\\nClirent and I'll drift this pracent.\\n\\nMERCUTIO:\\nCanst thou not, nurse, boy, and for my heart!\\nMy loving most mender\"\n",
            " b\"ROMEO:\\nSoft may remember, Prince of Warwick, shall come again,\\nLike too heavy in one can Back-with you.\\n\\nAUFIDIUS:\\nNay, but 'tis away, sir; I will deny of\\nyour throat of Capabella, lad to you,\\nI smouthe us to the noble, nothing: greet,\\nMy father, who's your will, and we invite thee,\\nBy giving him consul. I will not Let him be merried.\\nAnd for these bold words?\\n\\nFirst Citizen:\\nOur business is a gow-brew shrewd\\nThat never means to like thee shall report a triful Fronce\\nMost patient means: I am a feather.\\n\\nLord Marshal:\\nThe better, tire me; and his head bifan\\nWho speak his reason but but thou been meet,\\nAnd being but a foolish remorse: a\\ngentlewoman, the warlike man,\\nPridegrime in night be revel't,\\nAnd those twenty choler more. Play the bitty gates\\nRGook to benrow the ministers:\\nTherefore thy knee be-possible to my father's house;\\nLet me incess as yet I kill thee with 'e.\\n\\nBAPTISTA:\\nI pray you, come happin, slain; for he is a grief,\\nReady in the town of Hereford, what is this strange\\nHed at the\"\n",
            " b\"ROMEO:\\nGood morrow; sir, the better returely butch my\\nfather's head, I see thy embrace be? I have a foul and love with her!\\nDoth she no downright? wherefore, sir,\\nThou jurged you to him? why, Romeo, pray heart,\\nLook on herself, secure no more honour.\\n\\nKING RICHARD III:\\nAll axe on some dies, I do not sweet so from yourselv,\\n'Have I not in her bock-atied.\\n\\nNurse:\\nHere sits, good night confess.\\n\\nPARIS:\\nTo see you ruse and pite: his flighters regreet,\\nWhen sceet your soul herself, dismalight her worst.\\n\\nVOLUMNIA:\\nThat's in the clouds, but 'tis less of suitor:\\nLook on Petruchio came he is; and, here's he me,\\nUnless he given my butterance. Charged in Gloucester!\\n\\nLUCIO:\\nCome, your general is the master, should no fitted\\nfor me at once. why, then,\\nFollow straight;\\nAnd, for I have counce I take.\\nFarewell; come I say, my lord; 'tis perdical\\nTrans offer'd. So much thy end, in pure; for I\\nwill not pot that honour in the mercain world\\nBut fearing shoulders attend you in a\\nCavil's blood. This love we her\"\n",
            " b\"ROMEO:\\nThe second noble angels too,\\nWhilst I say 'now to my wife, lion banishment,\\nFor firther nature serves to take his fame?\\n\\nJOHN OF GAUNT:\\nO, by the mittle liege in repention\\nLove, to the drops of name a sleeper's chamber;\\nAnd, good sobble pieces?\\n\\nBENVOLIO:\\nAt WARwick will I can be no more\\nTo the air, if indeed, speak of back, when he wakes,\\nTo meet his neck: and thou wilt laugh\\nAway to perch his complight: who, brows by life,\\nI mean, an aftrection.\\n\\nBRUTUS:\\nLongly, let him be lord; we see thy walk heard\\nThere duest nothing. I am there no pity.\\nLet me put me, nor now what crown'd her hallow'st\\nThe abuses remorse a slave, which, brother, or my knee\\nI come to purpose in faith and\\nproson in her tears, as you should beack him talk.\\n\\nLORD IO:\\nWhat? will my men did speak it lightens insolence,\\nhis eyesing deep milding wither? unter a puppet of\\nYork, who shall be deneing smell of right.\\nIn me to make us my open hand:\\nLook, how! and Kenerence!\\nWelcome! Camillo, for Kingood JoUnt of our wites,\\nW\"], shape=(5,), dtype=string) \n",
            "\n",
            "________________________________________________________________________________\n",
            "\n",
            "Run time: 4.8773109912872314\n"
          ]
        }
      ]
    },
    {
      "cell_type": "code",
      "source": [
        "tf.saved_model.save(one_step_model, 'one_step')\n",
        "one_step_reloaded = tf.saved_model.load('one_step')"
      ],
      "metadata": {
        "colab": {
          "base_uri": "https://localhost:8080/"
        },
        "id": "KWwRpfiDTdRS",
        "outputId": "049d044a-66d6-4152-81aa-fa1c52c6c2d0"
      },
      "execution_count": 72,
      "outputs": [
        {
          "output_type": "stream",
          "name": "stderr",
          "text": [
            "WARNING:tensorflow:Skipping full serialization of Keras layer <__main__.OneStep object at 0x79d59ada65f0>, because it is not built.\n",
            "WARNING:tensorflow:Model's `__init__()` arguments contain non-serializable objects. Please implement a `get_config()` method in the subclassed Model for proper saving and loading. Defaulting to empty config.\n",
            "WARNING:tensorflow:Model's `__init__()` arguments contain non-serializable objects. Please implement a `get_config()` method in the subclassed Model for proper saving and loading. Defaulting to empty config.\n"
          ]
        }
      ]
    },
    {
      "cell_type": "code",
      "source": [
        "states = None\n",
        "next_char = tf.constant(['ROMEO:'])\n",
        "result = [next_char]\n",
        "\n",
        "for n in range(100):\n",
        "  next_char, states = one_step_reloaded.generate_one_step(next_char, states=states)\n",
        "  result.append(next_char)\n",
        "\n",
        "print(tf.strings.join(result)[0].numpy().decode(\"utf-8\"))"
      ],
      "metadata": {
        "colab": {
          "base_uri": "https://localhost:8080/"
        },
        "id": "YQZvxdorTffC",
        "outputId": "6a0815bb-6031-40c0-c0e7-7778451460db"
      },
      "execution_count": 73,
      "outputs": [
        {
          "output_type": "stream",
          "name": "stdout",
          "text": [
            "ROMEO:\n",
            "Two moves me mine. Fare you well.\n",
            "\n",
            "BUSON:\n",
            "Here's angel, for all those troth-bud innocent,\n",
            "And rice \n"
          ]
        }
      ]
    },
    {
      "cell_type": "markdown",
      "source": [
        "# Tugas"
      ],
      "metadata": {
        "id": "sxklOBfATwwg"
      }
    },
    {
      "cell_type": "code",
      "source": [
        "class CustomTraining(MyModel):\n",
        "    @tf.function\n",
        "    def train_step(self, inputs):\n",
        "        inputs, labels = inputs\n",
        "        with tf.GradientTape() as tape:\n",
        "            predictions = self(inputs, training=True)\n",
        "            loss = self.loss(labels, predictions)\n",
        "        grads = tape.gradient(loss, model.trainable_variables)\n",
        "        self.optimizer.apply_gradients(zip(grads, model.trainable_variables))\n",
        "\n",
        "        return {'loss': loss}\n"
      ],
      "metadata": {
        "id": "_cLNUwBtTxqw"
      },
      "execution_count": 75,
      "outputs": []
    },
    {
      "cell_type": "code",
      "source": [
        "model = CustomTraining(\n",
        "    vocab_size=len(ids_from_chars.get_vocabulary()),\n",
        "    embedding_dim=embedding_dim,\n",
        "    rnn_units=rnn_units)\n"
      ],
      "metadata": {
        "id": "T0Vyj9u7T70F"
      },
      "execution_count": 77,
      "outputs": []
    },
    {
      "cell_type": "code",
      "source": [
        "model.compile(\n",
        "    optimizer=tf.keras.optimizers.Adam(),\n",
        "    loss=tf.keras.losses.SparseCategoricalCrossentropy(from_logits=True)\n",
        ")\n"
      ],
      "metadata": {
        "id": "L6uVKcbEUC-B"
      },
      "execution_count": 79,
      "outputs": []
    },
    {
      "cell_type": "code",
      "source": [
        "model.fit(dataset, epochs=1)"
      ],
      "metadata": {
        "colab": {
          "base_uri": "https://localhost:8080/"
        },
        "id": "hPr2PHPqUMCM",
        "outputId": "74e3ddc8-4722-4677-a6d4-397aac59ace2"
      },
      "execution_count": 80,
      "outputs": [
        {
          "output_type": "stream",
          "name": "stdout",
          "text": [
            "172/172 [==============================] - 18s 67ms/step - loss: 2.7367\n"
          ]
        },
        {
          "output_type": "execute_result",
          "data": {
            "text/plain": [
              "<keras.src.callbacks.History at 0x79d595c0c6a0>"
            ]
          },
          "metadata": {},
          "execution_count": 80
        }
      ]
    },
    {
      "cell_type": "code",
      "source": [
        "EPOCHS = 10\n",
        "\n",
        "mean = tf.metrics.Mean()\n",
        "\n",
        "for epoch in range(EPOCHS):\n",
        "    start = time.time()\n",
        "\n",
        "    mean.reset_states()\n",
        "    for (batch_n, (inp, target)) in enumerate(dataset):\n",
        "        logs = model.train_step([inp, target])\n",
        "        mean.update_state(logs['loss'])\n",
        "\n",
        "        if batch_n % 50 == 0:\n",
        "            template = f\"Epoch {epoch+1} Batch {batch_n} Loss {logs['loss']:.4f}\"\n",
        "            print(template)\n",
        "\n",
        "    # saving (checkpoint) the model every 5 epochs\n",
        "    if (epoch + 1) % 5 == 0:\n",
        "        model.save_weights(checkpoint_prefix.format(epoch=epoch))\n",
        "\n",
        "    print()\n",
        "    print(f'Epoch {epoch+1} Loss: {mean.result().numpy():.4f}')\n",
        "    print(f'Time taken for 1 epoch {time.time() - start:.2f} sec')\n",
        "    print(\"_\" * 80)\n",
        "\n",
        "model.save_weights(checkpoint_prefix.format(epoch=epoch))\n"
      ],
      "metadata": {
        "colab": {
          "base_uri": "https://localhost:8080/"
        },
        "id": "KXE2nFMiUOfn",
        "outputId": "26d7b717-858f-4c72-cef9-76d5131078c7"
      },
      "execution_count": 82,
      "outputs": [
        {
          "output_type": "stream",
          "name": "stdout",
          "text": [
            "Epoch 1 Batch 0 Loss 2.1887\n",
            "Epoch 1 Batch 50 Loss 2.0532\n",
            "Epoch 1 Batch 100 Loss 1.9364\n",
            "Epoch 1 Batch 150 Loss 1.8952\n",
            "\n",
            "Epoch 1 Loss: 2.0041\n",
            "Time taken for 1 epoch 14.98 sec\n",
            "________________________________________________________________________________\n",
            "Epoch 2 Batch 0 Loss 1.8813\n",
            "Epoch 2 Batch 50 Loss 1.7120\n",
            "Epoch 2 Batch 100 Loss 1.7023\n",
            "Epoch 2 Batch 150 Loss 1.6465\n",
            "\n",
            "Epoch 2 Loss: 1.7270\n",
            "Time taken for 1 epoch 11.15 sec\n",
            "________________________________________________________________________________\n",
            "Epoch 3 Batch 0 Loss 1.6244\n",
            "Epoch 3 Batch 50 Loss 1.5825\n",
            "Epoch 3 Batch 100 Loss 1.5492\n",
            "Epoch 3 Batch 150 Loss 1.5056\n",
            "\n",
            "Epoch 3 Loss: 1.5627\n",
            "Time taken for 1 epoch 11.83 sec\n",
            "________________________________________________________________________________\n",
            "Epoch 4 Batch 0 Loss 1.4672\n",
            "Epoch 4 Batch 50 Loss 1.4821\n",
            "Epoch 4 Batch 100 Loss 1.4681\n",
            "Epoch 4 Batch 150 Loss 1.4808\n",
            "\n",
            "Epoch 4 Loss: 1.4615\n",
            "Time taken for 1 epoch 12.82 sec\n",
            "________________________________________________________________________________\n",
            "Epoch 5 Batch 0 Loss 1.4308\n",
            "Epoch 5 Batch 50 Loss 1.3877\n",
            "Epoch 5 Batch 100 Loss 1.3625\n",
            "Epoch 5 Batch 150 Loss 1.3629\n",
            "\n",
            "Epoch 5 Loss: 1.3920\n",
            "Time taken for 1 epoch 20.61 sec\n",
            "________________________________________________________________________________\n",
            "Epoch 6 Batch 0 Loss 1.3408\n",
            "Epoch 6 Batch 50 Loss 1.3682\n",
            "Epoch 6 Batch 100 Loss 1.3159\n",
            "Epoch 6 Batch 150 Loss 1.3341\n",
            "\n",
            "Epoch 6 Loss: 1.3379\n",
            "Time taken for 1 epoch 11.58 sec\n",
            "________________________________________________________________________________\n",
            "Epoch 7 Batch 0 Loss 1.3153\n",
            "Epoch 7 Batch 50 Loss 1.2765\n",
            "Epoch 7 Batch 100 Loss 1.2808\n",
            "Epoch 7 Batch 150 Loss 1.2910\n",
            "\n",
            "Epoch 7 Loss: 1.2931\n",
            "Time taken for 1 epoch 12.65 sec\n",
            "________________________________________________________________________________\n",
            "Epoch 8 Batch 0 Loss 1.2297\n",
            "Epoch 8 Batch 50 Loss 1.2412\n",
            "Epoch 8 Batch 100 Loss 1.2083\n",
            "Epoch 8 Batch 150 Loss 1.2468\n",
            "\n",
            "Epoch 8 Loss: 1.2517\n",
            "Time taken for 1 epoch 13.58 sec\n",
            "________________________________________________________________________________\n",
            "Epoch 9 Batch 0 Loss 1.1586\n",
            "Epoch 9 Batch 50 Loss 1.2383\n",
            "Epoch 9 Batch 100 Loss 1.2225\n",
            "Epoch 9 Batch 150 Loss 1.2361\n",
            "\n",
            "Epoch 9 Loss: 1.2110\n",
            "Time taken for 1 epoch 20.47 sec\n",
            "________________________________________________________________________________\n",
            "Epoch 10 Batch 0 Loss 1.1474\n",
            "Epoch 10 Batch 50 Loss 1.1490\n",
            "Epoch 10 Batch 100 Loss 1.1635\n",
            "Epoch 10 Batch 150 Loss 1.2112\n",
            "\n",
            "Epoch 10 Loss: 1.1721\n",
            "Time taken for 1 epoch 12.42 sec\n",
            "________________________________________________________________________________\n"
          ]
        }
      ]
    }
  ]
}